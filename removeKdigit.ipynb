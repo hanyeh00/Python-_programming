{
  "nbformat": 4,
  "nbformat_minor": 0,
  "metadata": {
    "colab": {
      "name": "removeKdigit.ipynb",
      "provenance": []
    },
    "kernelspec": {
      "name": "python3",
      "display_name": "Python 3"
    },
    "language_info": {
      "name": "python"
    }
  },
  "cells": [
    {
      "cell_type": "markdown",
      "metadata": {
        "id": "EXOTxMSbw0BY"
      },
      "source": [
        "#[src](https://leetcode.com/)\n",
        "### Time:  O(n)\n",
        "### Space: O(n)\n",
        "\n",
        "### Given a non-negative integer num represented as a string,\n",
        "### remove k digits from the number so that the new number is the smallest possible.\n",
        "#\n",
        "### Note:\n",
        "### The length of num is less than 10^5 and will be >= k.\n",
        "### The given num does not contain any leading zero.\n",
        "### Example 1:\n",
        "#\n",
        "### Input: num = \"1432219\", k = 3\n",
        "### Output: \"1219\"\n",
        "### Explanation: Remove the three digits 4, 3, and 2 to form the new number 1219 which is the smallest.\n",
        "### Example 2:\n",
        "#\n",
        "### Input: num = \"10200\", k = 1\n",
        "### Output: \"200\"\n",
        "### Explanation: Remove the leading 1 and the number is 200.\n",
        "### Note that the output must not contain leading zeroes.\n",
        "### Example 3:\n",
        "#\n",
        "### Input: num = \"10\", k = 2\n",
        "### Output: \"0\"\n",
        "### Explanation: Remove all the digits from the number and it is left with nothing which is 0.\n"
      ]
    },
    {
      "cell_type": "code",
      "metadata": {
        "id": "JUlrOeX6vSGI"
      },
      "source": [
        "\n",
        "class Solution(object):\n",
        "    def removeKdigits(self, num, k):\n",
        "        \"\"\"\n",
        "        :type num: str\n",
        "        :type k: int\n",
        "        :rtype: str\n",
        "        \"\"\"\n",
        "        result = []\n",
        "        for i in num:\n",
        "          result.append(i)\n",
        "        result.sort(reverse=False)\n",
        "        if k==len(result):\n",
        "          return '0'\n",
        "        else:\n",
        "          for i in range(k):\n",
        "            result.pop()\n",
        "          return \"\".join(result)\n"
      ],
      "execution_count": 59,
      "outputs": []
    },
    {
      "cell_type": "code",
      "metadata": {
        "colab": {
          "base_uri": "https://localhost:8080/",
          "height": 36
        },
        "id": "beAxKVWPzvgR",
        "outputId": "5e448803-f1df-45f3-bfca-b4838794133c"
      },
      "source": [
        "x=Solution()\n",
        "x.removeKdigits(\"20\",2)"
      ],
      "execution_count": 60,
      "outputs": [
        {
          "output_type": "execute_result",
          "data": {
            "application/vnd.google.colaboratory.intrinsic+json": {
              "type": "string"
            },
            "text/plain": [
              "'0'"
            ]
          },
          "metadata": {},
          "execution_count": 60
        }
      ]
    },
    {
      "cell_type": "code",
      "metadata": {
        "id": "ZYtiVe0i7agH"
      },
      "source": [
        ""
      ],
      "execution_count": null,
      "outputs": []
    }
  ]
}