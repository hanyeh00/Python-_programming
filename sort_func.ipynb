{
  "nbformat": 4,
  "nbformat_minor": 0,
  "metadata": {
    "colab": {
      "name": "python3.ipynb",
      "provenance": []
    },
    "kernelspec": {
      "name": "python3",
      "display_name": "Python 3"
    },
    "language_info": {
      "name": "python"
    }
  },
  "cells": [
    {
      "cell_type": "markdown",
      "metadata": {
        "id": "EXOTxMSbw0BY"
      },
      "source": [
        "#[src](https://leetcode.com/)\n",
        "Given an array nums with n objects colored red, white, or blue, sort them in-place so that objects of the same color are adjacent, with the colors in the order red, white, and blue.\n",
        "We will use the integers 0, 1, and 2 to represent the color red, white, and blue, respectively.\n",
        "You must solve this problem without using the library's sort function.\n",
        "\n",
        "\n",
        "* \n",
        "Input: nums = [2,0,2,1,1,0]\n",
        "* Output: [0,0,1,1,2,2]\n",
        "\n"
      ]
    },
    {
      "cell_type": "code",
      "metadata": {
        "id": "jOit8wBnskmo"
      },
      "source": [
        "class Solution(object):\n",
        "    def sortColors(self, nums):\n",
        "        \"\"\"\n",
        "        :type nums: List[int]\n",
        "        :rtype: None Do not return anything, modify nums in-place instead.\n",
        "        \"\"\"\n",
        "       \n",
        "        new_list=[]\n",
        "        while nums:\n",
        "          minimum = nums[0]  # arbitrary number in list \n",
        "          for x in nums: \n",
        "            if x < minimum:\n",
        "              minimum = x\n",
        "          new_list.append(minimum)\n",
        "          nums.remove(minimum)    \n",
        "        print(new_list)"
      ],
      "execution_count": 25,
      "outputs": []
    },
    {
      "cell_type": "code",
      "metadata": {
        "colab": {
          "base_uri": "https://localhost:8080/"
        },
        "id": "r7qgYk5GsoBJ",
        "outputId": "32c3fae8-cad6-4f68-c7ae-d396e023fc93"
      },
      "source": [
        "t=[0]\n",
        "e=Solution()\n",
        "e.sortColors(t)"
      ],
      "execution_count": 27,
      "outputs": [
        {
          "output_type": "stream",
          "text": [
            "[0]\n"
          ],
          "name": "stdout"
        }
      ]
    },
    {
      "cell_type": "code",
      "metadata": {
        "id": "JUlrOeX6vSGI"
      },
      "source": [
        ""
      ],
      "execution_count": null,
      "outputs": []
    }
  ]
}